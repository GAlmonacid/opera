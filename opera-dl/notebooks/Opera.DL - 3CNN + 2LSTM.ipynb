{
 "cells": [
  {
   "cell_type": "code",
   "execution_count": 1,
   "metadata": {
    "colab": {},
    "colab_type": "code",
    "executionInfo": {
     "elapsed": 550,
     "status": "ok",
     "timestamp": 1592857719440,
     "user": {
      "displayName": "Guillermo Almonacid Olleros",
      "photoUrl": "https://lh3.googleusercontent.com/a-/AOh14GhjfrhK8qSn1CpU7XUoq54WssLCSZOwrZ0t1ndG0Q=s64",
      "userId": "09171152471714266162"
     },
     "user_tz": -60
    },
    "id": "XBNG7BM1gUVO"
   },
   "outputs": [
    {
     "name": "stderr",
     "output_type": "stream",
     "text": [
      "Using TensorFlow backend.\n"
     ]
    }
   ],
   "source": [
    "import pandas as pd\n",
    "from sklearn.metrics import mean_squared_error, r2_score, mean_absolute_error\n",
    "import matplotlib.pyplot as plt\n",
    "from sklearn.model_selection import cross_val_score\n",
    "from sklearn.model_selection import cross_validate\n",
    "from sklearn.model_selection import cross_val_predict\n",
    "import numpy as np\n",
    "from keras.models import Sequential\n",
    "from keras.layers import Dense\n",
    "from keras.wrappers.scikit_learn import KerasRegressor\n",
    "from keras.layers import Conv1D, MaxPooling1D\n",
    "from keras.layers import Dropout, Dense, Activation\n",
    "from keras.layers import LSTM\n",
    "from keras.optimizers import Adam\n",
    "from sklearn.preprocessing import MinMaxScaler"
   ]
  },
  {
   "cell_type": "code",
   "execution_count": 2,
   "metadata": {
    "colab": {
     "base_uri": "https://localhost:8080/",
     "height": 54
    },
    "colab_type": "code",
    "executionInfo": {
     "elapsed": 730,
     "status": "ok",
     "timestamp": 1592857719630,
     "user": {
      "displayName": "Guillermo Almonacid Olleros",
      "photoUrl": "https://lh3.googleusercontent.com/a-/AOh14GhjfrhK8qSn1CpU7XUoq54WssLCSZOwrZ0t1ndG0Q=s64",
      "userId": "09171152471714266162"
     },
     "user_tz": -60
    },
    "id": "arsE4KXOsTd7",
    "outputId": "56763c6b-2dd6-4fde-e99d-eb0941562d36"
   },
   "outputs": [],
   "source": [
    "#from google.colab import drive\n",
    "#drive.mount('/content/drive')"
   ]
  },
  {
   "cell_type": "markdown",
   "metadata": {
    "colab_type": "text",
    "id": "nl8bF1EPg5bu"
   },
   "source": [
    "Read csv"
   ]
  },
  {
   "cell_type": "code",
   "execution_count": 3,
   "metadata": {
    "colab": {},
    "colab_type": "code",
    "executionInfo": {
     "elapsed": 840,
     "status": "ok",
     "timestamp": 1592857719836,
     "user": {
      "displayName": "Guillermo Almonacid Olleros",
      "photoUrl": "https://lh3.googleusercontent.com/a-/AOh14GhjfrhK8qSn1CpU7XUoq54WssLCSZOwrZ0t1ndG0Q=s64",
      "userId": "09171152471714266162"
     },
     "user_tz": -60
    },
    "id": "voUcjKfLgvLw"
   },
   "outputs": [],
   "source": [
    "# Host runtinme\n",
    "#from google.colab import drive\n",
    "#drive.mount('/content/drive')\n",
    "#df = pd.read_csv('/content/drive/My Drive/opera-dl/data/opera_dataset_1w_10min.csv',parse_dates=['timestamp'])\n",
    "\n",
    "# Local runtime\n",
    "df = pd.read_csv('../data/opera_dataset_1w_10min.csv',parse_dates=['timestamp'])\n",
    "\n"
   ]
  },
  {
   "cell_type": "markdown",
   "metadata": {
    "colab_type": "text",
    "id": "zOPvmcfFYVFK"
   },
   "source": [
    "Prepare data (samples, time steps, features) and normalise"
   ]
  },
  {
   "cell_type": "code",
   "execution_count": 12,
   "metadata": {
    "colab": {},
    "colab_type": "code",
    "executionInfo": {
     "elapsed": 1141,
     "status": "ok",
     "timestamp": 1592857720148,
     "user": {
      "displayName": "Guillermo Almonacid Olleros",
      "photoUrl": "https://lh3.googleusercontent.com/a-/AOh14GhjfrhK8qSn1CpU7XUoq54WssLCSZOwrZ0t1ndG0Q=s64",
      "userId": "09171152471714266162"
     },
     "user_tz": -60
    },
    "id": "sVE2sheGYUz4"
   },
   "outputs": [],
   "source": [
    "#small sample for debugging\n",
    "#df = df[:1000]\n",
    "\n",
    "# 90 minutes (9 * 10 minutes)\n",
    "time_steps = 9\n",
    "\n",
    "# 120 minutes (12 * 10 minutes)\n",
    "#time_steps = 12\n",
    "\n",
    "# Average only\n",
    "#features=['Rad_avg','Tamb_avg','Tmod_avg']\n",
    "\n",
    "# Average, max, min and std dev\n",
    "features=['Rad_avg','Tamb_avg','Tmod_avg','Rad_max','Tamb_max','Tmod_max','Rad_min','Tamb_min','Tmod_min','Rad_std','Tamb_std','Tmod_std']\n",
    "\n",
    "X = np.zeros((len(df), time_steps, len(features)))\n",
    "\n",
    "for ix in range(time_steps):\n",
    "  X[:,ix,:] = df[features].shift(ix)\n",
    "\n",
    "#Drop NaN\n",
    "X = X[time_steps:]\n",
    "y = df['Pa1'][time_steps:]\n",
    "\n",
    "# Normalise\n",
    "X_norm=X\n",
    "scalers_X = {}\n",
    "for i in range(X.shape[2]):\n",
    "    scalers_X[i] = MinMaxScaler()\n",
    "    X_norm[:, :, i] = scalers_X[i].fit_transform(X[:, :, i]) \n",
    "\n",
    "scaler_y = MinMaxScaler(feature_range=(0, 1))\n",
    "y_norm = scaler_y.fit_transform(y.values.reshape(-1, 1))\n",
    "\n"
   ]
  },
  {
   "cell_type": "markdown",
   "metadata": {
    "colab_type": "text",
    "id": "bCm63cLXn_xP"
   },
   "source": [
    "Model"
   ]
  },
  {
   "cell_type": "code",
   "execution_count": 5,
   "metadata": {
    "colab": {},
    "colab_type": "code",
    "executionInfo": {
     "elapsed": 1142,
     "status": "ok",
     "timestamp": 1592857720155,
     "user": {
      "displayName": "Guillermo Almonacid Olleros",
      "photoUrl": "https://lh3.googleusercontent.com/a-/AOh14GhjfrhK8qSn1CpU7XUoq54WssLCSZOwrZ0t1ndG0Q=s64",
      "userId": "09171152471714266162"
     },
     "user_tz": -60
    },
    "id": "_hrT5vqLn_fR"
   },
   "outputs": [],
   "source": [
    "cv_n=30\n",
    "\n",
    "#benchmark=np.empty([6])\n",
    "\n",
    "def baseline_model():\n",
    "  # create model\n",
    "  model = Sequential()\n",
    "  model.add(Conv1D(16,2,padding='valid',activation='relu',strides=1, input_shape=(X_norm.shape[1], X_norm.shape[2])))\n",
    "  #model.add(MaxPooling1D(pool_size=2))\n",
    "  model.add(Conv1D(32,2,padding='valid',activation='relu',strides=1))\n",
    "  #model.add(MaxPooling1D(pool_size=2))\n",
    "  model.add(Conv1D(64,2,padding='valid',activation='relu',strides=1))\n",
    "  #model.add(MaxPooling1D(pool_size=2))\n",
    "  model.add(Dropout(0.25))\n",
    "  #model.add(LSTM(32, return_sequences=True,input_shape=(X_norm.shape[1], X_norm.shape[2])))\n",
    "  model.add(LSTM(32, return_sequences=True))\n",
    "  model.add(Dropout(0.25))\n",
    "  model.add(LSTM(32))\n",
    "  model.add(Dropout(0.25))\n",
    "  model.add(Dense(1))\n",
    "  model.add(Activation('relu'))\n",
    "\t# Compile model\n",
    "  model.compile(loss='mae', optimizer=Adam(lr=0.0003), metrics=['mae'])\n",
    "\t#model.compile(loss='mean_squared_error', optimizer='adam')\n",
    "  return model\n",
    "\n",
    "# evaluate model\n",
    "estimator = KerasRegressor(build_fn=baseline_model, epochs=100, batch_size=521, verbose=0)\n",
    "#kfold = KFold(n_splits=10)\n",
    "\n"
   ]
  },
  {
   "cell_type": "markdown",
   "metadata": {
    "colab_type": "text",
    "id": "R18ABv6UWV_c"
   },
   "source": [
    "Cross validation"
   ]
  },
  {
   "cell_type": "code",
   "execution_count": 6,
   "metadata": {
    "colab": {
     "base_uri": "https://localhost:8080/",
     "height": 395
    },
    "colab_type": "code",
    "executionInfo": {
     "elapsed": 632569,
     "status": "error",
     "timestamp": 1592860031919,
     "user": {
      "displayName": "Guillermo Almonacid Olleros",
      "photoUrl": "https://lh3.googleusercontent.com/a-/AOh14GhjfrhK8qSn1CpU7XUoq54WssLCSZOwrZ0t1ndG0Q=s64",
      "userId": "09171152471714266162"
     },
     "user_tz": -60
    },
    "id": "C9kDhb0qWY7i",
    "outputId": "c4c1d9a1-5903-4867-fdb7-574946e1d916"
   },
   "outputs": [
    {
     "name": "stdout",
     "output_type": "stream",
     "text": [
      "WARNING:tensorflow:From /usr/local/lib/python3.7/site-packages/tensorflow/python/framework/op_def_library.py:263: colocate_with (from tensorflow.python.framework.ops) is deprecated and will be removed in a future version.\n",
      "Instructions for updating:\n",
      "Colocations handled automatically by placer.\n",
      "WARNING:tensorflow:From /usr/local/lib/python3.7/site-packages/keras/backend/tensorflow_backend.py:3445: calling dropout (from tensorflow.python.ops.nn_ops) with keep_prob is deprecated and will be removed in a future version.\n",
      "Instructions for updating:\n",
      "Please use `rate` instead of `keep_prob`. Rate should be set to `rate = 1 - keep_prob`.\n",
      "WARNING:tensorflow:From /usr/local/lib/python3.7/site-packages/tensorflow/python/ops/math_ops.py:3066: to_int32 (from tensorflow.python.ops.math_ops) is deprecated and will be removed in a future version.\n",
      "Instructions for updating:\n",
      "Use tf.cast instead.\n"
     ]
    }
   ],
   "source": [
    "\n",
    "# X normalised\n",
    "scores_predict = cross_val_predict(estimator, X_norm, y_norm, cv=cv_n)\n",
    " \n",
    "# X not normalised\n",
    "#scores_predict = cross_val_predict(estimator, X, y_norm, cv=cv_n)\n"
   ]
  },
  {
   "cell_type": "markdown",
   "metadata": {
    "colab_type": "text",
    "id": "QoOiAWlQ1dL2"
   },
   "source": [
    "denorm"
   ]
  },
  {
   "cell_type": "code",
   "execution_count": 7,
   "metadata": {
    "colab": {},
    "colab_type": "code",
    "executionInfo": {
     "elapsed": 152,
     "status": "aborted",
     "timestamp": 1592860031922,
     "user": {
      "displayName": "Guillermo Almonacid Olleros",
      "photoUrl": "https://lh3.googleusercontent.com/a-/AOh14GhjfrhK8qSn1CpU7XUoq54WssLCSZOwrZ0t1ndG0Q=s64",
      "userId": "09171152471714266162"
     },
     "user_tz": -60
    },
    "id": "80OlGUjV1cpU"
   },
   "outputs": [],
   "source": [
    "\n",
    "scores_predict_denorm = scaler_y.inverse_transform(scores_predict.reshape(-1, 1))\n"
   ]
  },
  {
   "cell_type": "markdown",
   "metadata": {
    "colab_type": "text",
    "id": "KLhuNrvFPnEU"
   },
   "source": [
    "Metrics"
   ]
  },
  {
   "cell_type": "code",
   "execution_count": 8,
   "metadata": {
    "colab": {},
    "colab_type": "code",
    "executionInfo": {
     "elapsed": 139,
     "status": "aborted",
     "timestamp": 1592860031923,
     "user": {
      "displayName": "Guillermo Almonacid Olleros",
      "photoUrl": "https://lh3.googleusercontent.com/a-/AOh14GhjfrhK8qSn1CpU7XUoq54WssLCSZOwrZ0t1ndG0Q=s64",
      "userId": "09171152471714266162"
     },
     "user_tz": -60
    },
    "id": "WD37TQ097-oz"
   },
   "outputs": [
    {
     "name": "stdout",
     "output_type": "stream",
     "text": [
      "552.3244217028256 290.00221988114555 0.9960699777709293\n"
     ]
    }
   ],
   "source": [
    "RMSE = np.sqrt(mean_squared_error(y,scores_predict_denorm))\n",
    "MAE = mean_absolute_error(y,scores_predict_denorm)\n",
    "R2 = r2_score(y,scores_predict_denorm)\n",
    "print(RMSE,MAE, R2)"
   ]
  },
  {
   "cell_type": "markdown",
   "metadata": {
    "colab_type": "text",
    "id": "JkRO76FV7Guu"
   },
   "source": [
    "Plots"
   ]
  },
  {
   "cell_type": "code",
   "execution_count": 9,
   "metadata": {
    "colab": {},
    "colab_type": "code",
    "executionInfo": {
     "elapsed": 126,
     "status": "aborted",
     "timestamp": 1592860031926,
     "user": {
      "displayName": "Guillermo Almonacid Olleros",
      "photoUrl": "https://lh3.googleusercontent.com/a-/AOh14GhjfrhK8qSn1CpU7XUoq54WssLCSZOwrZ0t1ndG0Q=s64",
      "userId": "09171152471714266162"
     },
     "user_tz": -60
    },
    "id": "VxZBVy6R7Gc0"
   },
   "outputs": [],
   "source": [
    "#plt.scatter(y, scores_predict_denorm, s=1)\n",
    "#plt.plot([y.min(), y.max()], [y.min(), y.max()], 'k--', lw=4)\n",
    " "
   ]
  },
  {
   "cell_type": "markdown",
   "metadata": {
    "colab_type": "text",
    "id": "DueCSRmB626b"
   },
   "source": [
    "Performance"
   ]
  },
  {
   "cell_type": "code",
   "execution_count": 10,
   "metadata": {
    "colab": {},
    "colab_type": "code",
    "executionInfo": {
     "elapsed": 109,
     "status": "aborted",
     "timestamp": 1592860031927,
     "user": {
      "displayName": "Guillermo Almonacid Olleros",
      "photoUrl": "https://lh3.googleusercontent.com/a-/AOh14GhjfrhK8qSn1CpU7XUoq54WssLCSZOwrZ0t1ndG0Q=s64",
      "userId": "09171152471714266162"
     },
     "user_tz": -60
    },
    "id": "PfOwYcJl64YP"
   },
   "outputs": [],
   "source": [
    "#scores_eval = cross_validate(estimator, X_norm, y_norm, cv=cv_n)\n",
    "#print(scores_eval['fit_time'].mean(), scores_eval['score_time'].mean(), scores_eval['test_score'].mean())"
   ]
  },
  {
   "cell_type": "code",
   "execution_count": 14,
   "metadata": {
    "colab": {},
    "colab_type": "code",
    "executionInfo": {
     "elapsed": 87,
     "status": "aborted",
     "timestamp": 1592860031927,
     "user": {
      "displayName": "Guillermo Almonacid Olleros",
      "photoUrl": "https://lh3.googleusercontent.com/a-/AOh14GhjfrhK8qSn1CpU7XUoq54WssLCSZOwrZ0t1ndG0Q=s64",
      "userId": "09171152471714266162"
     },
     "user_tz": -60
    },
    "id": "3IjOsBkvprk3"
   },
   "outputs": [
    {
     "data": {
      "image/png": "[encoded data removed]",
      "text/plain": [
       "<Figure size 1296x288 with 1 Axes>"
      ]
     },
     "metadata": {
      "needs_background": "light"
     },
     "output_type": "display_data"
    }
   ],
   "source": [
    "X = df.drop('Pa1', axis=1)\n",
    "#y = df['Pa1']\n",
    "\n",
    "xplot_min = 12240\n",
    "xplot_max = 12480\n",
    "\n",
    "fig, axes = plt.subplots(figsize=(18, 4))\n",
    "axes.scatter(X.index[xplot_min:xplot_max],y[xplot_min:xplot_max],color=\"blue\",label=\"Measured Value\",s=5)\n",
    "axes.plot(X.index[xplot_min:xplot_max],scores_predict_denorm[xplot_min:xplot_max], color=\"red\",label=\"3CNN+2LSTM\")\n",
    "axes.legend()\n",
    "axes.set_xlim(X.index[xplot_min],X.index[xplot_max])\n",
    "axes.set_xlabel('Time')\n",
    "axes.set_ylabel('Power')  \n",
    "\n",
    "\n",
    "fig.autofmt_xdate()\n",
    "plt.show()"
   ]
  },
  {
   "cell_type": "code",
   "execution_count": null,
   "metadata": {},
   "outputs": [],
   "source": []
  }
 ],
 "metadata": {
  "accelerator": "TPU",
  "colab": {
   "name": "Opera.DL - 3CNN + 2LSTM.ipynb",
   "provenance": [
    {
     "file_id": "12EXgIHNUReoieLdHX49pjplsKFpe2UsG",
     "timestamp": 1591571478792
    },
    {
     "file_id": "1KsFkt5mOpZU9G5qMsa9RuH-GBRvHPuwV",
     "timestamp": 1583078567174
    },
    {
     "file_id": "1ssqWFvFTqkKlzovDslDtfWsGVL2_awB7",
     "timestamp": 1582990310194
    },
    {
     "file_id": "1Lny-aXsQ4E_-8OAd4hfCCM1ZFRikVpVZ",
     "timestamp": 1582990161997
    },
    {
     "file_id": "10bDXyX4qIBXY4m9b8JkNUJlwyFD3YyEJ",
     "timestamp": 1582984219620
    }
   ]
  },
  "kernelspec": {
   "display_name": "Python 3",
   "language": "python",
   "name": "python3"
  },
  "language_info": {
   "codemirror_mode": {
    "name": "ipython",
    "version": 3
   },
   "file_extension": ".py",
   "mimetype": "text/x-python",
   "name": "python",
   "nbconvert_exporter": "python",
   "pygments_lexer": "ipython3",
   "version": "3.7.2"
  }
 },
 "nbformat": 4,
 "nbformat_minor": 1
}
